{
  "nbformat": 4,
  "nbformat_minor": 0,
  "metadata": {
    "colab": {
      "provenance": [],
      "authorship_tag": "ABX9TyMLTcqAazdJrJLZkMglgz1g",
      "include_colab_link": true
    },
    "kernelspec": {
      "name": "python3",
      "display_name": "Python 3"
    },
    "language_info": {
      "name": "python"
    }
  },
  "cells": [
    {
      "cell_type": "markdown",
      "metadata": {
        "id": "view-in-github",
        "colab_type": "text"
      },
      "source": [
        "<a href=\"https://colab.research.google.com/github/ssfatemi/DL-ML-Tutorial/blob/main/ML-python/4-saving-models/Model_saving.ipynb\" target=\"_parent\"><img src=\"https://colab.research.google.com/assets/colab-badge.svg\" alt=\"Open In Colab\"/></a>"
      ]
    },
    {
      "cell_type": "code",
      "execution_count": null,
      "metadata": {
        "id": "aEjmkOP4P8tn"
      },
      "outputs": [],
      "source": []
    },
    {
      "cell_type": "markdown",
      "source": [
        "# Saving trained models\n",
        "## 2 solutions\n",
        "1- pickle,\n",
        "2- sklearn joblib\n"
      ],
      "metadata": {
        "id": "iNYTleZPP_cX"
      }
    },
    {
      "cell_type": "markdown",
      "source": [
        "## Training the model"
      ],
      "metadata": {
        "id": "vkhbVZkDQQpo"
      }
    },
    {
      "cell_type": "code",
      "source": [
        "import pandas as pd\n",
        "import numpy as np\n",
        "from sklearn import linear_model\n",
        "df = pd.read_csv(\"homeprices.csv\")\n",
        "model = linear_model.LinearRegression()\n",
        "model.fit(df[['area']],df.price)\n",
        "model.predict([[5000]])\n"
      ],
      "metadata": {
        "colab": {
          "base_uri": "https://localhost:8080/"
        },
        "id": "yeEsMFPQQDl2",
        "outputId": "7f7c7c62-967d-4e1a-d0ef-3bd6e3bf4a05"
      },
      "execution_count": 1,
      "outputs": [
        {
          "output_type": "stream",
          "name": "stderr",
          "text": [
            "/usr/local/lib/python3.11/dist-packages/sklearn/utils/validation.py:2739: UserWarning: X does not have valid feature names, but LinearRegression was fitted with feature names\n",
            "  warnings.warn(\n"
          ]
        },
        {
          "output_type": "execute_result",
          "data": {
            "text/plain": [
              "array([913240.11571842])"
            ]
          },
          "metadata": {},
          "execution_count": 1
        }
      ]
    },
    {
      "cell_type": "markdown",
      "source": [
        "## Save/ load using pickle"
      ],
      "metadata": {
        "id": "woKVhaWlQfs4"
      }
    },
    {
      "cell_type": "code",
      "source": [
        "# save\n",
        "\n",
        "import pickle\n",
        "with open('model_pickle','wb') as file:\n",
        "    pickle.dump(model,file)"
      ],
      "metadata": {
        "id": "4fx8q2-6QiYI"
      },
      "execution_count": 2,
      "outputs": []
    },
    {
      "cell_type": "code",
      "source": [
        "# load\n",
        "\n",
        "import pickle\n",
        "with open('model_pickle','rb') as file:\n",
        "    mp = pickle.load(file)\n",
        "mp.predict([[5000]])\n"
      ],
      "metadata": {
        "colab": {
          "base_uri": "https://localhost:8080/"
        },
        "id": "nkEMn6VLQwU0",
        "outputId": "94bd16a9-11b5-4680-9f0d-7be88b2ab2de"
      },
      "execution_count": 3,
      "outputs": [
        {
          "output_type": "stream",
          "name": "stderr",
          "text": [
            "/usr/local/lib/python3.11/dist-packages/sklearn/utils/validation.py:2739: UserWarning: X does not have valid feature names, but LinearRegression was fitted with feature names\n",
            "  warnings.warn(\n"
          ]
        },
        {
          "output_type": "execute_result",
          "data": {
            "text/plain": [
              "array([913240.11571842])"
            ]
          },
          "metadata": {},
          "execution_count": 3
        }
      ]
    },
    {
      "cell_type": "markdown",
      "source": [
        "## Save/ load using joblib\n",
        "More efficient for models with large np arrays"
      ],
      "metadata": {
        "id": "gYW9hB8MQpb5"
      }
    },
    {
      "cell_type": "code",
      "source": [
        "# save the model\n",
        "\n",
        "import joblib\n",
        "joblib.dump(model, 'model_joblib')\n"
      ],
      "metadata": {
        "colab": {
          "base_uri": "https://localhost:8080/"
        },
        "id": "H7gqCh8ORDDY",
        "outputId": "6b7ea2e3-92b1-4d47-960a-ac5fe083ef0d"
      },
      "execution_count": 5,
      "outputs": [
        {
          "output_type": "execute_result",
          "data": {
            "text/plain": [
              "['model_joblib']"
            ]
          },
          "metadata": {},
          "execution_count": 5
        }
      ]
    },
    {
      "cell_type": "code",
      "source": [
        "#load the model\n",
        "\n",
        "import joblib\n",
        "mj = joblib.load('model_joblib')\n",
        "mj.predict([[5000]])"
      ],
      "metadata": {
        "colab": {
          "base_uri": "https://localhost:8080/"
        },
        "id": "guVk5NevRMeg",
        "outputId": "1346df40-30d3-49f2-a53c-6677fe6d22ac"
      },
      "execution_count": 6,
      "outputs": [
        {
          "output_type": "stream",
          "name": "stderr",
          "text": [
            "/usr/local/lib/python3.11/dist-packages/sklearn/utils/validation.py:2739: UserWarning: X does not have valid feature names, but LinearRegression was fitted with feature names\n",
            "  warnings.warn(\n"
          ]
        },
        {
          "output_type": "execute_result",
          "data": {
            "text/plain": [
              "array([913240.11571842])"
            ]
          },
          "metadata": {},
          "execution_count": 6
        }
      ]
    }
  ]
}