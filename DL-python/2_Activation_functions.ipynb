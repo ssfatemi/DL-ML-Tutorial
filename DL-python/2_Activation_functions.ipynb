{
  "cells": [
    {
      "cell_type": "markdown",
      "metadata": {
        "id": "view-in-github",
        "colab_type": "text"
      },
      "source": [
        "<a href=\"https://colab.research.google.com/github/ssfatemi/DL-ML-Tutorial/blob/main/DL-python/2_Activation_functions.ipynb\" target=\"_parent\"><img src=\"https://colab.research.google.com/assets/colab-badge.svg\" alt=\"Open In Colab\"/></a>"
      ]
    },
    {
      "cell_type": "markdown",
      "metadata": {
        "id": "t2_fanSk_urb"
      },
      "source": [
        "<h3 style='color:blue' align='center'>Implementation of activation functions in python</h3>"
      ]
    },
    {
      "cell_type": "markdown",
      "metadata": {
        "id": "qax2vK47_urc"
      },
      "source": [
        "<h3 style='color:purple'>Sigmoid</h3>"
      ]
    },
    {
      "cell_type": "code",
      "execution_count": null,
      "metadata": {
        "id": "GjULRvME_urd"
      },
      "outputs": [],
      "source": [
        "import math\n",
        "\n",
        "def sigmoid(x):\n",
        "  return 1 / (1 + math.exp(-x))"
      ]
    },
    {
      "cell_type": "code",
      "execution_count": null,
      "metadata": {
        "id": "6nCb8gLG_urd",
        "outputId": "c9811c2f-729b-44da-f104-db306eff4c91"
      },
      "outputs": [
        {
          "data": {
            "text/plain": [
              "1.0"
            ]
          },
          "execution_count": 2,
          "metadata": {},
          "output_type": "execute_result"
        }
      ],
      "source": [
        "sigmoid(100)"
      ]
    },
    {
      "cell_type": "code",
      "execution_count": null,
      "metadata": {
        "id": "3J8QPkgA_ure",
        "outputId": "e8a88385-c9b6-431c-a0f9-5e653bd96a55"
      },
      "outputs": [
        {
          "data": {
            "text/plain": [
              "0.7310585786300049"
            ]
          },
          "execution_count": 3,
          "metadata": {},
          "output_type": "execute_result"
        }
      ],
      "source": [
        "sigmoid(1)"
      ]
    },
    {
      "cell_type": "code",
      "execution_count": null,
      "metadata": {
        "id": "eghZMoXd_urf",
        "outputId": "ea0d1f8a-5eef-43cd-b3ae-c0d5f89b2470"
      },
      "outputs": [
        {
          "data": {
            "text/plain": [
              "4.780892883885469e-25"
            ]
          },
          "execution_count": 4,
          "metadata": {},
          "output_type": "execute_result"
        }
      ],
      "source": [
        "sigmoid(-56)"
      ]
    },
    {
      "cell_type": "code",
      "execution_count": null,
      "metadata": {
        "scrolled": false,
        "id": "ijT61TEi_urf",
        "outputId": "cec0f67f-bd0d-4dbf-ae05-07d5c1b8609d"
      },
      "outputs": [
        {
          "data": {
            "text/plain": [
              "0.6224593312018546"
            ]
          },
          "execution_count": 5,
          "metadata": {},
          "output_type": "execute_result"
        }
      ],
      "source": [
        "sigmoid(0.5)"
      ]
    },
    {
      "cell_type": "markdown",
      "metadata": {
        "id": "7_IfachE_urf"
      },
      "source": [
        "<h3 style='color:purple'>tanh</h3>"
      ]
    },
    {
      "cell_type": "code",
      "execution_count": null,
      "metadata": {
        "id": "-Av2Z-2S_urf"
      },
      "outputs": [],
      "source": [
        "def tanh(x):\n",
        "  return (math.exp(x) - math.exp(-x)) / (math.exp(x) + math.exp(-x))"
      ]
    },
    {
      "cell_type": "code",
      "execution_count": null,
      "metadata": {
        "id": "XCqC7q9M_urf",
        "outputId": "356484cb-14a1-498a-adf3-0f9c10fe12d4"
      },
      "outputs": [
        {
          "data": {
            "text/plain": [
              "-1.0"
            ]
          },
          "execution_count": 7,
          "metadata": {},
          "output_type": "execute_result"
        }
      ],
      "source": [
        "tanh(-56)"
      ]
    },
    {
      "cell_type": "code",
      "execution_count": null,
      "metadata": {
        "id": "Yz1r08mU_urg",
        "outputId": "6550f356-4e45-476c-fd3a-1765b44ed197"
      },
      "outputs": [
        {
          "data": {
            "text/plain": [
              "1.0"
            ]
          },
          "execution_count": 8,
          "metadata": {},
          "output_type": "execute_result"
        }
      ],
      "source": [
        "tanh(50)"
      ]
    },
    {
      "cell_type": "code",
      "execution_count": null,
      "metadata": {
        "id": "kqxRJz-F_urg",
        "outputId": "6c2aa90f-2575-4b14-86bf-19c04f3a58ec"
      },
      "outputs": [
        {
          "data": {
            "text/plain": [
              "0.7615941559557649"
            ]
          },
          "execution_count": 9,
          "metadata": {},
          "output_type": "execute_result"
        }
      ],
      "source": [
        "tanh(1)"
      ]
    },
    {
      "cell_type": "markdown",
      "metadata": {
        "id": "FlOdgvt0_urg"
      },
      "source": [
        "<h3 style='color:purple'>ReLU</h3>"
      ]
    },
    {
      "cell_type": "code",
      "execution_count": null,
      "metadata": {
        "id": "7DrXBA_0_urg"
      },
      "outputs": [],
      "source": [
        "def relu(x):\n",
        "    return max(0,x)"
      ]
    },
    {
      "cell_type": "code",
      "execution_count": null,
      "metadata": {
        "id": "d3g0ur_T_urg",
        "outputId": "30de43db-f762-4fb1-c675-f7e2020b4e3e"
      },
      "outputs": [
        {
          "data": {
            "text/plain": [
              "0"
            ]
          },
          "execution_count": 15,
          "metadata": {},
          "output_type": "execute_result"
        }
      ],
      "source": [
        "relu(-100)"
      ]
    },
    {
      "cell_type": "code",
      "execution_count": null,
      "metadata": {
        "scrolled": false,
        "id": "OSbvDD3m_urg",
        "outputId": "5a841ee0-9089-44f2-a152-4a71236019e0"
      },
      "outputs": [
        {
          "data": {
            "text/plain": [
              "8"
            ]
          },
          "execution_count": 14,
          "metadata": {},
          "output_type": "execute_result"
        }
      ],
      "source": [
        "relu(8)"
      ]
    },
    {
      "cell_type": "markdown",
      "metadata": {
        "id": "u-3jClfX_urh"
      },
      "source": [
        "<h3 style='color:purple'>Leaky ReLU</h3>"
      ]
    },
    {
      "cell_type": "code",
      "execution_count": null,
      "metadata": {
        "id": "ODLg4mEA_urh"
      },
      "outputs": [],
      "source": [
        "def leaky_relu(x):\n",
        "    return max(0.1*x,x)"
      ]
    },
    {
      "cell_type": "code",
      "execution_count": null,
      "metadata": {
        "id": "hEEtaMLn_urh",
        "outputId": "c02ecffd-14e7-40fb-a369-f95c0522dfe8"
      },
      "outputs": [
        {
          "data": {
            "text/plain": [
              "-10.0"
            ]
          },
          "execution_count": 17,
          "metadata": {},
          "output_type": "execute_result"
        }
      ],
      "source": [
        "leaky_relu(-100)"
      ]
    },
    {
      "cell_type": "code",
      "execution_count": null,
      "metadata": {
        "id": "jT_tPWhq_urh",
        "outputId": "9e82a20d-2213-4361-b20c-c5c134057ed9"
      },
      "outputs": [
        {
          "data": {
            "text/plain": [
              "8"
            ]
          },
          "execution_count": 18,
          "metadata": {},
          "output_type": "execute_result"
        }
      ],
      "source": [
        "leaky_relu(8)"
      ]
    }
  ],
  "metadata": {
    "kernelspec": {
      "display_name": "Python 3",
      "language": "python",
      "name": "python3"
    },
    "language_info": {
      "codemirror_mode": {
        "name": "ipython",
        "version": 3
      },
      "file_extension": ".py",
      "mimetype": "text/x-python",
      "name": "python",
      "nbconvert_exporter": "python",
      "pygments_lexer": "ipython3",
      "version": "3.7.3"
    },
    "colab": {
      "provenance": [],
      "include_colab_link": true
    }
  },
  "nbformat": 4,
  "nbformat_minor": 0
}