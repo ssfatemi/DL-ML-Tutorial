{
  "cells": [
    {
      "cell_type": "markdown",
      "metadata": {
        "id": "view-in-github",
        "colab_type": "text"
      },
      "source": [
        "<a href=\"https://colab.research.google.com/github/ssfatemi/DL-ML-Tutorial/blob/main/DL-python/3_matrix_math.ipynb\" target=\"_parent\"><img src=\"https://colab.research.google.com/assets/colab-badge.svg\" alt=\"Open In Colab\"/></a>"
      ]
    },
    {
      "cell_type": "markdown",
      "source": [
        "# Numpy Martrix\n",
        "\n",
        "kind of linear algebra tutorial"
      ],
      "metadata": {
        "id": "7HQZIeisCnLK"
      }
    },
    {
      "cell_type": "code",
      "execution_count": null,
      "metadata": {
        "id": "gd6yE0ndCmHk"
      },
      "outputs": [],
      "source": [
        "import numpy as np"
      ]
    },
    {
      "cell_type": "markdown",
      "metadata": {
        "id": "KELycZuuCmHl"
      },
      "source": [
        "Calculate profit/loss from revenue and expenses"
      ]
    },
    {
      "cell_type": "code",
      "execution_count": null,
      "metadata": {
        "id": "8LAiU6WYCmHm"
      },
      "outputs": [],
      "source": [
        "revenue = np.array([[180,200,220],[24,36,40],[12,18,20]])\n",
        "expenses = np.array([[80,90,100],[10,16,20],[8,10,10]])"
      ]
    },
    {
      "cell_type": "code",
      "execution_count": null,
      "metadata": {
        "scrolled": true,
        "id": "Ew5UBW2iCmHn",
        "outputId": "41b76eca-1c69-42b6-92bd-68a1c69f2406"
      },
      "outputs": [
        {
          "data": {
            "text/plain": [
              "array([[100, 110, 120],\n",
              "       [ 14,  20,  20],\n",
              "       [  4,   8,  10]])"
            ]
          },
          "execution_count": 5,
          "metadata": {},
          "output_type": "execute_result"
        }
      ],
      "source": [
        "profit = revenue - expenses\n",
        "profit"
      ]
    },
    {
      "cell_type": "markdown",
      "metadata": {
        "id": "1bjty_uxCmHn"
      },
      "source": [
        "<h3 style='color:blue'>Calculate total sales from units and price per unit using matrix multiplication</h3>"
      ]
    },
    {
      "cell_type": "code",
      "execution_count": null,
      "metadata": {
        "id": "0bW8gQcICmHn"
      },
      "outputs": [],
      "source": [
        "price_per_unit = np.array([1000,400,1200])\n",
        "units = np.array([[30,40,50],[5,10,15],[2,5,7]])"
      ]
    },
    {
      "cell_type": "code",
      "execution_count": null,
      "metadata": {
        "scrolled": true,
        "id": "0LI0zNNCCmHn",
        "outputId": "4eb8e8b3-c610-4edd-fbe5-75ccb3b39f5a"
      },
      "outputs": [
        {
          "data": {
            "text/plain": [
              "array([[30000, 16000, 60000],\n",
              "       [ 5000,  4000, 18000],\n",
              "       [ 2000,  2000,  8400]])"
            ]
          },
          "execution_count": 7,
          "metadata": {},
          "output_type": "execute_result"
        }
      ],
      "source": [
        "price_per_unit*units"
      ]
    },
    {
      "cell_type": "markdown",
      "metadata": {
        "id": "ZQdzkZ1gCmHo"
      },
      "source": [
        "In above case numpy is using broadcasting so it expands price_per_unit array from 1 row, 3 columns to 3 row and 3 columns. Correct way to do matrix multiplication is to use dot product as shown below"
      ]
    },
    {
      "cell_type": "code",
      "execution_count": null,
      "metadata": {
        "id": "ECWVU1l3CmHo",
        "outputId": "17f35b45-4d50-4c6b-98d0-d10b4eb569d2"
      },
      "outputs": [
        {
          "data": {
            "text/plain": [
              "array([34400, 50000, 64400])"
            ]
          },
          "execution_count": 8,
          "metadata": {},
          "output_type": "execute_result"
        }
      ],
      "source": [
        "np.dot(price_per_unit,units)"
      ]
    }
  ],
  "metadata": {
    "kernelspec": {
      "display_name": "Python 3",
      "language": "python",
      "name": "python3"
    },
    "language_info": {
      "codemirror_mode": {
        "name": "ipython",
        "version": 3
      },
      "file_extension": ".py",
      "mimetype": "text/x-python",
      "name": "python",
      "nbconvert_exporter": "python",
      "pygments_lexer": "ipython3",
      "version": "3.7.3"
    },
    "colab": {
      "provenance": [],
      "include_colab_link": true
    }
  },
  "nbformat": 4,
  "nbformat_minor": 0
}